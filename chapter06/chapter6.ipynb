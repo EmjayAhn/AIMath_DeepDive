{
 "cells": [
  {
   "cell_type": "markdown",
   "metadata": {},
   "source": [
    "# Chapter 6: 특이값 분해"
   ]
  },
  {
   "cell_type": "markdown",
   "metadata": {},
   "source": [
    "## 행렬 C의 특이값 분해를 살펴보자"
   ]
  },
  {
   "cell_type": "code",
   "execution_count": 1,
   "metadata": {},
   "outputs": [
    {
     "name": "stdout",
     "output_type": "stream",
     "text": [
      "U = \n",
      " [[-0.18537573  0.89385076  0.40824829]\n",
      " [-0.51204594  0.26672511 -0.81649658]\n",
      " [-0.83871616 -0.36040053  0.40824829]]\n",
      "sigma = \n",
      " [49.4022666  1.1899809]\n",
      "Sigma = \n",
      " [[49.4022666  0.       ]\n",
      " [ 0.         1.1899809]\n",
      " [ 0.         0.       ]]\n",
      "Vt = \n",
      " [[-0.94464116 -0.32810529]\n",
      " [ 0.32810529 -0.94464116]]\n"
     ]
    }
   ],
   "source": [
    "import numpy as np\n",
    "import matplotlib.pyplot as plt\n",
    "import matplotlib.cm as cm\n",
    "\n",
    "\n",
    "# 행렬 C를 선언해보자.\n",
    "# 책의 예제와 같은 행렬을 사용한다.\n",
    "C = np.array([\n",
    "    [9, 2],\n",
    "    [24, 8],\n",
    "    [39, 14]\n",
    "])\n",
    "\n",
    "# numpy의 svd 메소드를 이용해, 특이값 분해를 수행한다.\n",
    "U, sigma, Vt = np.linalg.svd(C)\n",
    "\n",
    "print(f\"U = \\n {U}\")\n",
    "print(f\"sigma = \\n {sigma}\")\n",
    "\n",
    "# Sigma에 대해 살펴보자.\n",
    "# Sigma는 C와 그 모양이 같다. 따라서 다음과 같이 C 와 같은 모양의 0행렬을 만들어준다.\n",
    "Sigma = np.zeros(C.shape)\n",
    "m = np.amin(C.shape)\n",
    "Sigma[0:m, 0:m] = np.diag(sigma)\n",
    "print(f\"Sigma = \\n {Sigma}\")\n",
    "print(f\"Vt = \\n {Vt}\")"
   ]
  },
  {
   "cell_type": "code",
   "execution_count": null,
   "metadata": {},
   "outputs": [],
   "source": []
  }
 ],
 "metadata": {
  "kernelspec": {
   "display_name": "py37",
   "language": "python",
   "name": "py37"
  },
  "language_info": {
   "codemirror_mode": {
    "name": "ipython",
    "version": 3
   },
   "file_extension": ".py",
   "mimetype": "text/x-python",
   "name": "python",
   "nbconvert_exporter": "python",
   "pygments_lexer": "ipython3",
   "version": "3.7.0"
  },
  "orig_nbformat": 4
 },
 "nbformat": 4,
 "nbformat_minor": 2
}
